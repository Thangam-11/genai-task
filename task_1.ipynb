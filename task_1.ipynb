{
 "cells": [
  {
   "cell_type": "markdown",
   "metadata": {},
   "source": [
    "\n",
    "\n",
    "# Assessment for Gen AI/Prompt Engineering Role\n",
    "\n",
    "\n",
    "Problem Statement 1: Natural Language Processing (NLP)\n",
    "\n",
    "* Problem: Implement a function to preprocess and tokenize text data. Requirements:\n",
    "\n",
    "* Implement in Python using libraries like NLTK or spaCy.\n",
    "\n",
    "* Handle edge cases such as punctuation, stop words, and different cases. Evaluation Criteria:\n",
    "\n",
    "* Correctness of the preprocessing steps.\n",
    "\n",
    "* Efficiency and readability of the code.\n",
    "\n",
    "* Clean and structured code with appropriate comments."
   ]
  },
  {
   "cell_type": "markdown",
   "metadata": {},
   "source": [
    "# Step-by-Step Solution\n",
    "\n",
    "1.Load Necessary Libraries.\n",
    "\n",
    "2.Import Libraries and Download Resources.\n",
    "\n",
    "3.Define the Preprocessing Function.\n",
    "\n",
    "4.Example Usage."
   ]
  },
  {
   "cell_type": "code",
   "execution_count": 4,
   "metadata": {},
   "outputs": [],
   "source": [
    "# import the all depenpencies \n",
    "import nltk\n",
    "import string\n",
    "import re\n",
    "from nltk.corpus import stopwords\n",
    "from nltk.tokenize import word_tokenize\n",
    "from nltk.tokenize import sent_tokenize\n",
    "\n",
    "from nltk.stem import WordNetLemmatizer\n",
    "from nltk.stem import PorterStemmer"
   ]
  },
  {
   "cell_type": "code",
   "execution_count": 5,
   "metadata": {},
   "outputs": [
    {
     "name": "stderr",
     "output_type": "stream",
     "text": [
      "[nltk_data] Downloading package punkt to\n",
      "[nltk_data]     C:\\Users\\User\\AppData\\Roaming\\nltk_data...\n",
      "[nltk_data]   Package punkt is already up-to-date!\n",
      "[nltk_data] Downloading package stopwords to\n",
      "[nltk_data]     C:\\Users\\User\\AppData\\Roaming\\nltk_data...\n",
      "[nltk_data]   Package stopwords is already up-to-date!\n",
      "[nltk_data] Downloading package wordnet to\n",
      "[nltk_data]     C:\\Users\\User\\AppData\\Roaming\\nltk_data...\n",
      "[nltk_data]   Package wordnet is already up-to-date!\n",
      "[nltk_data] Downloading package omw-1.4 to\n",
      "[nltk_data]     C:\\Users\\User\\AppData\\Roaming\\nltk_data...\n",
      "[nltk_data]   Package omw-1.4 is already up-to-date!\n"
     ]
    },
    {
     "data": {
      "text/plain": [
       "True"
      ]
     },
     "execution_count": 5,
     "metadata": {},
     "output_type": "execute_result"
    }
   ],
   "source": [
    "# Download necessary NLTK data files\n",
    "nltk.download('punkt') \n",
    "nltk.download('stopwords')  \n",
    "nltk.download('wordnet')  \n",
    "nltk.download('omw-1.4')"
   ]
  },
  {
   "cell_type": "code",
   "execution_count": 6,
   "metadata": {},
   "outputs": [],
   "source": [
    "# below mention example text for text preprocessiong \n",
    "\n",
    "# step 1 : Tokenaization\n",
    "# step 2 : change the lower case\n",
    "# step 3 :remove the stop words \n",
    "# step 4 : stemming and lemmatatization "
   ]
  },
  {
   "cell_type": "code",
   "execution_count": 7,
   "metadata": {},
   "outputs": [],
   "source": [
    "speech_data = \"\"\"\n",
    "The world must be made safe for democracy. Its peace must be planted upon the tested foundations of political liberty. We have no selfish ends to serve. We desire no conquest, no dominion. We seek no indemnities for ourselves, no material compensation for the sacrifices we shall freely make. We are but one of the champions of the rights of mankind. We shall be satisfied when those rights have been made as secure as the faith and the freedom of nations can make them.\n",
    "\n",
    "Just because we fight without rancor and without selfish object, seeking nothing for ourselves but what we shall wish to share with all free peoples, we shall, I feel confident, conduct our operations as belligerents without passion and ourselves observe with proud punctilio the principles of right and of fair play we profess to be fighting for.\n",
    "\n",
    "…\n",
    "\n",
    "It will be all the easier for us to conduct ourselves as belligerents in a high spirit of right and fairness because we act without animus, not in enmity toward a people or with the desire to bring any injury or disadvantage upon them, but only in armed opposition to an irresponsible government which has thrown aside all considerations of humanity and of right and is running amuck. We are, let me say again, the sincere friends of the German people, and shall desire nothing so much as the early reestablishment of intimate relations of mutual advantage between us—however hard it may be for them, for the time being, to believe that this is spoken from our hearts.\n",
    "\n",
    "We have borne with their present government through all these bitter months because of that friendship—exercising a patience and forbearance which would otherwise have been impossible. We shall, happily, still have an opportunity to prove that friendship in our daily attitude and actions toward the millions of men and women of German birth and native sympathy who live among us and share our life, and we shall be proud to prove it toward all who are in fact loyal to their neighbors and to the government in the hour of test. They are, most of them, as true and loyal Americans as if they had never known any other fealty or allegiance. They will be prompt to stand with us in rebuking and restraining the few who may be of a different mind and purpose. If there should be disloyalty, it will be dealt with with a firm hand of stern repression; but, if it lifts its head at all, it will lift it only here and there and without countenance except from a lawless and malignant few.\n",
    "\n",
    "It is a distressing and oppressive duty, gentlemen of the Congress, which I have performed in thus addressing you. There are, it may be, many months of fiery trial and sacrifice ahead of us. It is a fearful thing to lead this great peaceful people into war, into the most terrible and disastrous of all wars, civilization itself seeming to be in the balance. But the right is more precious than peace, and we shall fight for the things which we have always carried nearest our hearts—for democracy, for the right of those who submit to authority to have a voice in their own governments, for the rights and liberties of small nations, for a universal dominion of right by such a concert of free peoples as shall bring peace and safety to all nations and make the world itself at last free.\n",
    "\n",
    "To such a task we can dedicate our lives and our fortunes, everything that we are and everything that we have, with the pride of those who know that the day has come when America is privileged to spend her blood and her might for the principles that gave her birth and happiness and the peace which she has treasured. God helping her, she can do no other.\"\"\""
   ]
  },
  {
   "cell_type": "code",
   "execution_count": 8,
   "metadata": {},
   "outputs": [],
   "source": [
    "# Tokenize text into sentences\n",
    "sentences = sent_tokenize(speech_data)\n",
    "\n",
    "# apply stop words \n",
    "\n",
    "stemmer = PorterStemmer()\n",
    "\n",
    "for i in range (len(sentences)):\n",
    "    \n",
    "    # Remove punctuation using regular expression\n",
    "    sentences[i] = re.sub(r'[^\\w\\s]', '', sentences[i])\n",
    "\n",
    "    \n",
    "    words = nltk.word_tokenize(sentences[i])\n",
    "    \n",
    "    words =[stemmer.stem(word) for word in words if word.lower() not in set(stopwords.words('english'))]\n",
    "    \n",
    "    sentences[i] = ' '.join(words) # converting all the words in sentences "
   ]
  },
  {
   "cell_type": "code",
   "execution_count": 9,
   "metadata": {},
   "outputs": [
    {
     "data": {
      "text/plain": [
       "['world must made safe democraci',\n",
       " 'peac must plant upon test foundat polit liberti',\n",
       " 'selfish end serv',\n",
       " 'desir conquest dominion',\n",
       " 'seek indemn materi compens sacrific shall freeli make',\n",
       " 'one champion right mankind',\n",
       " 'shall satisfi right made secur faith freedom nation make',\n",
       " 'fight without rancor without selfish object seek noth shall wish share free peopl shall feel confid conduct oper belliger without passion observ proud punctilio principl right fair play profess fight',\n",
       " 'easier us conduct belliger high spirit right fair act without animu enmiti toward peopl desir bring injuri disadvantag upon arm opposit irrespons govern thrown asid consider human right run amuck',\n",
       " 'let say sincer friend german peopl shall desir noth much earli reestablish intim relat mutual advantag ushowev hard may time believ spoken heart',\n",
       " 'born present govern bitter month friendshipexercis patienc forbear would otherwis imposs',\n",
       " 'shall happili still opportun prove friendship daili attitud action toward million men women german birth nativ sympathi live among us share life shall proud prove toward fact loyal neighbor govern hour test',\n",
       " 'true loyal american never known fealti allegi',\n",
       " 'prompt stand us rebuk restrain may differ mind purpos',\n",
       " 'disloyalti dealt firm hand stern repress lift head lift without counten except lawless malign',\n",
       " 'distress oppress duti gentlemen congress perform thu address',\n",
       " 'may mani month fieri trial sacrific ahead us',\n",
       " 'fear thing lead great peac peopl war terribl disastr war civil seem balanc',\n",
       " 'right preciou peac shall fight thing alway carri nearest heartsfor democraci right submit author voic govern right liberti small nation univers dominion right concert free peopl shall bring peac safeti nation make world last free',\n",
       " 'task dedic live fortun everyth everyth pride know day come america privileg spend blood might principl gave birth happi peac treasur',\n",
       " 'god help']"
      ]
     },
     "execution_count": 9,
     "metadata": {},
     "output_type": "execute_result"
    }
   ],
   "source": [
    "\n",
    "sentences"
   ]
  },
  {
   "cell_type": "code",
   "execution_count": 10,
   "metadata": {},
   "outputs": [],
   "source": [
    "# lemmatization \n",
    "\n",
    "# Tokenize text into sentences\n",
    "sentences = sent_tokenize(speech_data)\n",
    "\n",
    "# Initialize the WordNet Lemmatizer\n",
    "lemmatizer = WordNetLemmatizer()\n",
    "\n",
    "# Process each sentence\n",
    "for i in range(len(sentences)):\n",
    "    # Remove punctuation using regular expression\n",
    "    sentences[i] = re.sub(r'[^\\w\\s]', '', sentences[i])\n",
    "\n",
    "    # Tokenize each sentence into words\n",
    "    words = word_tokenize(sentences[i])\n",
    "    \n",
    "    # Remove stop words and apply lemmatization\n",
    "    words = [lemmatizer.lemmatize(word.lower()) for word in words if word.lower() not in set(stopwords.words('english'))]\n",
    "    \n",
    "    # Rejoin the processed words back into a sentence\n",
    "    sentences[i] = ' '.join(words) \n",
    "    "
   ]
  },
  {
   "cell_type": "code",
   "execution_count": 11,
   "metadata": {},
   "outputs": [
    {
     "data": {
      "text/plain": [
       "['world must made safe democracy',\n",
       " 'peace must planted upon tested foundation political liberty',\n",
       " 'selfish end serve',\n",
       " 'desire conquest dominion',\n",
       " 'seek indemnity material compensation sacrifice shall freely make',\n",
       " 'one champion right mankind',\n",
       " 'shall satisfied right made secure faith freedom nation make',\n",
       " 'fight without rancor without selfish object seeking nothing shall wish share free people shall feel confident conduct operation belligerent without passion observe proud punctilio principle right fair play profess fighting',\n",
       " 'easier u conduct belligerent high spirit right fairness act without animus enmity toward people desire bring injury disadvantage upon armed opposition irresponsible government thrown aside consideration humanity right running amuck',\n",
       " 'let say sincere friend german people shall desire nothing much early reestablishment intimate relation mutual advantage ushowever hard may time believe spoken heart',\n",
       " 'borne present government bitter month friendshipexercising patience forbearance would otherwise impossible',\n",
       " 'shall happily still opportunity prove friendship daily attitude action toward million men woman german birth native sympathy live among u share life shall proud prove toward fact loyal neighbor government hour test',\n",
       " 'true loyal american never known fealty allegiance',\n",
       " 'prompt stand u rebuking restraining may different mind purpose',\n",
       " 'disloyalty dealt firm hand stern repression lift head lift without countenance except lawless malignant',\n",
       " 'distressing oppressive duty gentleman congress performed thus addressing',\n",
       " 'may many month fiery trial sacrifice ahead u',\n",
       " 'fearful thing lead great peaceful people war terrible disastrous war civilization seeming balance',\n",
       " 'right precious peace shall fight thing always carried nearest heartsfor democracy right submit authority voice government right liberty small nation universal dominion right concert free people shall bring peace safety nation make world last free',\n",
       " 'task dedicate life fortune everything everything pride know day come america privileged spend blood might principle gave birth happiness peace treasured',\n",
       " 'god helping']"
      ]
     },
     "execution_count": 11,
     "metadata": {},
     "output_type": "execute_result"
    }
   ],
   "source": [
    "sentences"
   ]
  },
  {
   "cell_type": "markdown",
   "metadata": {},
   "source": [
    "# Explanation\n",
    "\n",
    "1.Create to text preprocessing steps:\n",
    "    \n",
    "2.Download the nltk necessary resources for tokenization, stop words, and lemmatization\n",
    "\n",
    "3.Sentence Tokenization text into sentences\n",
    "\n",
    "4.Punctuation is removal  using regex methods\n",
    "\n",
    "5.Word Tokenization each sentences is tokenized in words\n",
    "\n",
    "6.Stop words removal and words  are lemmatized and stemming using PorterStemmer and WordNetLemmatizer \n",
    "\n",
    "7.Rejoining the all words .\n"
   ]
  },
  {
   "cell_type": "markdown",
   "metadata": {},
   "source": [
    "\n",
    "# Evaluation\n",
    "\n",
    "Correctness: The code performs all necessary preprocessing steps: punctuation removal, stop word removal, tokenization, and lemmatization."
   ]
  },
  {
   "cell_type": "code",
   "execution_count": null,
   "metadata": {},
   "outputs": [],
   "source": []
  },
  {
   "cell_type": "code",
   "execution_count": null,
   "metadata": {},
   "outputs": [],
   "source": []
  }
 ],
 "metadata": {
  "kernelspec": {
   "display_name": "Python 3",
   "language": "python",
   "name": "python3"
  },
  "language_info": {
   "codemirror_mode": {
    "name": "ipython",
    "version": 3
   },
   "file_extension": ".py",
   "mimetype": "text/x-python",
   "name": "python",
   "nbconvert_exporter": "python",
   "pygments_lexer": "ipython3",
   "version": "3.10.14"
  }
 },
 "nbformat": 4,
 "nbformat_minor": 2
}
