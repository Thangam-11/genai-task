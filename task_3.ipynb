{
 "cells": [
  {
   "cell_type": "markdown",
   "metadata": {},
   "source": [
    "# Problem Statement 3: Prompt Engineering.\n",
    "\n",
    "Problem: Design and evaluate prompts to improve the performance of a given AI model on a specific task (e.g., summarization, question answering). Requirements:\n",
    "\n",
    "* Experiment with different prompt designs.\n",
    "* Evaluate the effectiveness of each prompt using appropriate metrics. Evaluation Criteria:\n",
    "* Creativity and effectiveness of prompt designs.\n",
    "* Use of proper evaluation metrics.\n",
    "* Clear explanation and documentation of the process and results.\n"
   ]
  },
  {
   "cell_type": "markdown",
   "metadata": {},
   "source": [
    "# Step by step Process.\n",
    "1. Import Libraries\n",
    "2. Load Environment Variables\n",
    "3. Access API Key\n",
    "4. Define Text Data\n",
    "5. Create Prompts\n",
    "6. create a summary function\n",
    "7. Generate the summaries\n",
    "\n",
    "\n"
   ]
  },
  {
   "cell_type": "code",
   "execution_count": 2,
   "metadata": {},
   "outputs": [
    {
     "name": "stdout",
     "output_type": "stream",
     "text": [
      "Collecting openai==0.28\n",
      "  Using cached openai-0.28.0-py3-none-any.whl.metadata (13 kB)\n",
      "Requirement already satisfied: requests>=2.20 in c:\\users\\user\\onedrive\\desktop\\assement_genai\\venv\\lib\\site-packages (from openai==0.28) (2.32.3)\n",
      "Requirement already satisfied: tqdm in c:\\users\\user\\onedrive\\desktop\\assement_genai\\venv\\lib\\site-packages (from openai==0.28) (4.66.5)\n",
      "Requirement already satisfied: aiohttp in c:\\users\\user\\onedrive\\desktop\\assement_genai\\venv\\lib\\site-packages (from openai==0.28) (3.10.5)\n",
      "Requirement already satisfied: charset-normalizer<4,>=2 in c:\\users\\user\\onedrive\\desktop\\assement_genai\\venv\\lib\\site-packages (from requests>=2.20->openai==0.28) (3.3.2)\n",
      "Requirement already satisfied: idna<4,>=2.5 in c:\\users\\user\\onedrive\\desktop\\assement_genai\\venv\\lib\\site-packages (from requests>=2.20->openai==0.28) (3.8)\n",
      "Requirement already satisfied: urllib3<3,>=1.21.1 in c:\\users\\user\\onedrive\\desktop\\assement_genai\\venv\\lib\\site-packages (from requests>=2.20->openai==0.28) (2.2.2)\n",
      "Requirement already satisfied: certifi>=2017.4.17 in c:\\users\\user\\onedrive\\desktop\\assement_genai\\venv\\lib\\site-packages (from requests>=2.20->openai==0.28) (2024.8.30)\n",
      "Requirement already satisfied: aiohappyeyeballs>=2.3.0 in c:\\users\\user\\onedrive\\desktop\\assement_genai\\venv\\lib\\site-packages (from aiohttp->openai==0.28) (2.4.0)\n",
      "Requirement already satisfied: aiosignal>=1.1.2 in c:\\users\\user\\onedrive\\desktop\\assement_genai\\venv\\lib\\site-packages (from aiohttp->openai==0.28) (1.3.1)\n",
      "Requirement already satisfied: attrs>=17.3.0 in c:\\users\\user\\onedrive\\desktop\\assement_genai\\venv\\lib\\site-packages (from aiohttp->openai==0.28) (24.2.0)\n",
      "Requirement already satisfied: frozenlist>=1.1.1 in c:\\users\\user\\onedrive\\desktop\\assement_genai\\venv\\lib\\site-packages (from aiohttp->openai==0.28) (1.4.1)\n",
      "Requirement already satisfied: multidict<7.0,>=4.5 in c:\\users\\user\\onedrive\\desktop\\assement_genai\\venv\\lib\\site-packages (from aiohttp->openai==0.28) (6.0.5)\n",
      "Requirement already satisfied: yarl<2.0,>=1.0 in c:\\users\\user\\onedrive\\desktop\\assement_genai\\venv\\lib\\site-packages (from aiohttp->openai==0.28) (1.9.11)\n",
      "Requirement already satisfied: async-timeout<5.0,>=4.0 in c:\\users\\user\\onedrive\\desktop\\assement_genai\\venv\\lib\\site-packages (from aiohttp->openai==0.28) (4.0.3)\n",
      "Requirement already satisfied: colorama in c:\\users\\user\\onedrive\\desktop\\assement_genai\\venv\\lib\\site-packages (from tqdm->openai==0.28) (0.4.6)\n",
      "Using cached openai-0.28.0-py3-none-any.whl (76 kB)\n",
      "Installing collected packages: openai\n",
      "  Attempting uninstall: openai\n",
      "    Found existing installation: openai 1.43.0\n",
      "    Uninstalling openai-1.43.0:\n",
      "      Successfully uninstalled openai-1.43.0\n",
      "Successfully installed openai-0.28.0\n",
      "Note: you may need to restart the kernel to use updated packages.\n"
     ]
    },
    {
     "name": "stderr",
     "output_type": "stream",
     "text": [
      "ERROR: pip's dependency resolver does not currently take into account all the packages that are installed. This behaviour is the source of the following dependency conflicts.\n",
      "langchain-openai 0.1.23 requires openai<2.0.0,>=1.40.0, but you have openai 0.28.0 which is incompatible.\n"
     ]
    }
   ],
   "source": [
    "# pip install openai==0.28"
   ]
  },
  {
   "cell_type": "code",
   "execution_count": 3,
   "metadata": {},
   "outputs": [
    {
     "name": "stdout",
     "output_type": "stream",
     "text": [
      "Prompt 1: Summarize the following text:\n",
      "Summary: Artificial Intelligence (AI) and Machine Learning (ML) are transforming industries worldwide, including healthcare, finance, and e-commerce, by improving efficiency and services. AI focuses on natural language processing for applications such as chatbots, while ML allows systems to learn and improve from data. The rise of Big Data has increased the importance of data science, with visualization tools turning raw data into actionable insights. AI and ML are prevalent in finance for fraud detection and algorithmic trading, and in healthcare for predictive analytics and personalized medicine. However, these advancements pose challenges such as biased algorithms and ethical concerns. The e-commerce industry uses AI for personalized recommendations and inventory management, while governments employ AI for public services. Cybersecurity is another critical area where AI is used to\n",
      "\n",
      "Prompt 2: Provide a detailed summary of the following text in bullet points:\n",
      "Summary: - Artificial Intelligence (AI) is revolutionizing industries globally, enhancing efficiency, reducing costs, and providing better services.\n",
      "- Natural Language Processing (NLP), a subset of AI, focuses on human-computer interaction through natural language. Its applications include chatbots, sentiment analysis, and machine translation.\n",
      "- Companies need to invest responsibly in AI, ensuring ethical considerations aren't overlooked. By 2025, 85% of enterprises are expected to adopt AI technologies.\n",
      "- Machine Learning (ML) is a core part of AI that enables systems to learn from data and improve without explicit programming. It includes supervised learning, unsupervised learning, and reinforcement learning.\n",
      "- Python is widely used for developing ML models with libraries like scikit-learn, TensorFlow,\n",
      "\n",
      "Prompt 3: Write a summary of the following text highlighting the key points:\n",
      "Summary: AI is revolutionizing sectors globally, enhancing efficiency and reducing costs, with 85% of enterprises predicted to adopt AI technologies by 2025. Natural Language Processing (NLP), a subset of AI, enables human-computer interaction, with applications like chatbots and machine translation. Machine Learning (ML), a component of AI, allows systems to learn from data, with Python being widely used for ML models. \n",
      "\n",
      "The rise of Big Data has emphasized the need for data analysis and visualization tools like Tableau and Power BI. The financial sector utilizes AI for fraud detection and algorithmic trading, though biased AI models pose a risk. AI and ML have greatly benefited healthcare and e-commerce, with applications in predictive analytics, personalized medicine, inventory management, and\n",
      "\n",
      "Prompt 4: Summarize the following text in one or two sentences:\n",
      "Summary: Artificial Intelligence (AI) and Machine Learning (ML) are transforming numerous sectors including healthcare, finance, and e-commerce, enhancing efficiency and providing better services. However, as these technologies evolve, they present challenges such as ethical considerations, data privacy, and potential biases that need to be addressed responsibly.\n",
      "\n",
      "Prompt 5: Create a summary of the following text and include the most important highlights:\n",
      "Summary: AI is transforming various industries globally, including healthcare, finance, and e-commerce through applications like NLP, chatbots, and machine learning. However, this evolution brings challenges such as ethical considerations and potential biases. It is forecasted that 85% of enterprises will adopt AI by 2025. Machine Learning, a core component of AI, is categorized into supervised, unsupervised, and reinforcement learning, with Python being the primary language for developing ML models. \n",
      "\n",
      "The rise of Big Data has enhanced the importance of data visualization tools for businesses to derive meaningful insights. AI and ML technologies have been widely adopted in finance for fraud detection, credit scoring, etc., but carry the risk of legal implications due to biased AI models. In healthcare, AI\n",
      "\n"
     ]
    }
   ],
   "source": [
    "import os\n",
    "from dotenv import load_dotenv\n",
    "import openai\n",
    "\n",
    "# Load the environment variables from the .env file\n",
    "load_dotenv()\n",
    "\n",
    "# Access the API key\n",
    "openai_api_key = os.getenv(\"OPENAI_API_KEY\")\n",
    "\n",
    "openai.api_key = openai_api_key\n",
    "\n",
    "# Define the text to summarize\n",
    "text_data = \"\"\"\n",
    "Artificial Intelligence (AI) is revolutionizing industries across the globe. From healthcare to finance, AI is being integrated into various sectors to enhance efficiency, reduce costs, and provide better services. The field of Natural Language Processing (NLP), a subset of AI, focuses on the interaction between computers and humans through natural language. NLP applications include chatbots, sentiment analysis, machine translation, and more. As AI continues to evolve, it brings about both opportunities and challenges. Companies need to invest in AI responsibly, ensuring ethical considerations are not overlooked. In 2023, a study reported that 85% of enterprises will adopt AI technologies in some form by 2025.\n",
    "\n",
    "Machine Learning (ML) is a core component of AI that allows systems to learn from data and improve over time without explicit programming. There are several types of ML, including supervised learning, unsupervised learning, and reinforcement learning. Supervised learning involves labeled datasets where the algorithm learns to predict output from input data. Unsupervised learning, on the other hand, deals with unlabeled data, identifying patterns and relationships. Reinforcement learning is based on trial and error, where an agent learns to make decisions by receiving rewards or penalties. Python, with libraries like scikit-learn, TensorFlow, and PyTorch, is widely used for developing ML models.\n",
    "\n",
    "In recent years, the rise of Big Data has been a game-changer for data science. With vast amounts of data generated every second, the ability to analyze and derive meaningful insights has become crucial for businesses. Data visualization tools like Tableau and Power BI are essential for converting raw data into actionable insights. They help in identifying trends, correlations, and outliers in data. Effective data visualization should be clear, accurate, and easy to understand. Moreover, the choice of the right type of visualization—whether it's a bar chart, line graph, scatter plot, or heat map—can significantly impact how the data is perceived.\n",
    "\n",
    "The financial sector is one of the biggest adopters of AI and ML technologies. Fraud detection, credit scoring, algorithmic trading, and robo-advisors are some of the key applications of AI in finance. These technologies help in reducing manual intervention, increasing accuracy, and enhancing customer experience. However, with these advancements come challenges, such as the risk of biases in AI algorithms and the need for stringent regulatory compliance. A study from MIT in 2022 highlighted that biased AI models could cost the financial sector billions in legal fees and settlements.\n",
    "\n",
    "Healthcare is another sector that benefits immensely from AI and ML. Predictive analytics, personalized medicine, drug discovery, and medical imaging are just a few examples where AI is making a difference. During the COVID-19 pandemic, AI was instrumental in vaccine development, patient management, and predicting virus spread. However, the integration of AI in healthcare also raises ethical questions about data privacy, patient consent, and the transparency of AI decisions. A report from Stanford University in 2021 stated that while AI could reduce healthcare costs by up to 30%, the industry must address ethical concerns to ensure trust and reliability.\n",
    "\n",
    "Meanwhile, the e-commerce industry leverages AI for personalized recommendations, inventory management, dynamic pricing, and customer service. Amazon, for example, uses AI-driven recommendation systems that account for a significant portion of its sales. Dynamic pricing algorithms help in adjusting prices based on demand, competition, and other factors. Chatbots powered by NLP provide instant customer support, enhancing user experience. As e-commerce continues to grow, AI will play an even more prominent role in shaping the future of online shopping.\n",
    "\n",
    "The impact of AI is not limited to the private sector; governments around the world are also exploring AI for public services. From smart cities to predictive policing and national security, AI is being used to optimize resources and improve citizen services. For example, in Singapore, AI-driven traffic management systems have reduced congestion and improved public transport efficiency. However, the use of AI in public policy also raises concerns about surveillance, privacy, and potential misuse of data.\n",
    "\n",
    "As we move further into the digital age, the importance of cybersecurity cannot be overstated. AI is increasingly being used to enhance cybersecurity measures by detecting anomalies, predicting threats, and automating responses. On the flip side, cybercriminals are also using AI to develop more sophisticated attacks. A report by Cybersecurity Ventures predicts that cybercrime will cost the world $10.5 trillion annually by 2025. This creates a cat-and-mouse game between cybersecurity experts and malicious actors, making it essential to continuously innovate and stay ahead of potential threats.\n",
    "\n",
    "In education, AI is paving the way for personalized learning experiences. Intelligent tutoring systems, AI-driven assessments, and learning analytics are helping educators understand student needs better and customize teaching methods accordingly. For instance, platforms like Coursera and Khan Academy use AI to recommend courses based on a learner's profile and progress. However, the adoption of AI in education also requires addressing issues such as digital divide, data privacy, and the quality of AI-generated content.\n",
    "\n",
    "As AI continues to advance, the conversation around ethics and governance becomes more critical. Issues such as data privacy, algorithmic transparency, and bias in AI systems need to be addressed to ensure fair and equitable outcomes. In 2024, the European Union introduced the AI Act, aiming to create a legal framework for the ethical use of AI. This act categorizes AI applications into risk levels—unacceptable, high, and limited—ensuring that higher-risk applications undergo stricter scrutiny. This move by the EU sets a precedent for other regions to follow, emphasizing the need for responsible AI development and deployment.\n",
    "\n",
    "In conclusion, while AI and ML offer unprecedented opportunities across various sectors, they also bring challenges that need careful consideration. As these technologies continue to evolve, it is essential for stakeholders—be it businesses, governments, or individuals—to stay informed, collaborate, and innovate responsibly to harness the full potential of AI.\n",
    "\"\"\"\n",
    "\n",
    "# Define different prompts\n",
    "prompts = [\n",
    "    \"Summarize the following text:\",\n",
    "    \"Provide a detailed summary of the following text in bullet points:\",\n",
    "    \"Write a summary of the following text highlighting the key points:\",\n",
    "    \"Summarize the following text in one or two sentences:\",\n",
    "    \"Create a summary of the following text and include the most important highlights:\"\n",
    "]\n",
    "\n",
    "def generate_summary(prompt, text_data):\n",
    "    # Prepare messages for the chat model\n",
    "    messages = [\n",
    "        {\"role\": \"system\", \"content\": \"You are a helpful assistant.\"},\n",
    "        {\"role\": \"user\", \"content\": f\"{prompt}\\n\\n{text_data}\"}\n",
    "    ]\n",
    "    \n",
    "    response = openai.ChatCompletion.create(\n",
    "        model=\"gpt-4\",\n",
    "        messages=messages,\n",
    "        max_tokens=150,  \n",
    "        temperature=0.7\n",
    "    )\n",
    "    return response.choices[0].message['content'].strip()\n",
    "\n",
    "# Generate summaries using each prompt\n",
    "for i, prompt in enumerate(prompts):\n",
    "    summary = generate_summary(prompt, text_data)\n",
    "    print(f\"Prompt {i+1}: {prompt}\")\n",
    "    print(f\"Summary: {summary}\\n\")\n"
   ]
  },
  {
   "cell_type": "markdown",
   "metadata": {},
   "source": [
    "# Explanation\n",
    "\n",
    "1. Loads environment variables from .env file using python dotenv methods\n",
    "\n",
    "2. Access the openai api key from the environment variables \n",
    "\n",
    "3. Define a text data this is user input data \n",
    "\n",
    "4. A list of different prompts to test various summarization approaches\n",
    "\n",
    "5. IN summary function  messages defines conversation histroy model, chatopenai-compleation   sends to request to gpt_4 model genearte a complete based on given messages.\n",
    "\n",
    "6. Iterates through each prompt, generates a summary using the generate_summary function, and prints the results.\n",
    "\n",
    "\n",
    "\n",
    "\n"
   ]
  }
 ],
 "metadata": {
  "kernelspec": {
   "display_name": "Python 3",
   "language": "python",
   "name": "python3"
  },
  "language_info": {
   "codemirror_mode": {
    "name": "ipython",
    "version": 3
   },
   "file_extension": ".py",
   "mimetype": "text/x-python",
   "name": "python",
   "nbconvert_exporter": "python",
   "pygments_lexer": "ipython3",
   "version": "3.10.14"
  }
 },
 "nbformat": 4,
 "nbformat_minor": 2
}
